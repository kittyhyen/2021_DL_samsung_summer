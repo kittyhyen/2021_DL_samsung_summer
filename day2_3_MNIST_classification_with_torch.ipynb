{
  "nbformat": 4,
  "nbformat_minor": 0,
  "metadata": {
    "colab": {
      "name": "day2_3_MNIST_classification_with_torch.ipynb",
      "provenance": [],
      "collapsed_sections": []
    },
    "kernelspec": {
      "name": "python3",
      "display_name": "Python 3"
    },
    "language_info": {
      "name": "python"
    }
  },
  "cells": [
    {
      "cell_type": "markdown",
      "metadata": {
        "id": "NMKjYPPlX9PQ"
      },
      "source": [
        "### Reproducibility\n",
        "[PyTorch](https://pytorch.org/docs/stable/notes/randomness.html)"
      ]
    },
    {
      "cell_type": "code",
      "metadata": {
        "id": "HcTDgNn3WofN"
      },
      "source": [
        "import os\n",
        "import random\n",
        "import numpy as np\n",
        "import torch"
      ],
      "execution_count": null,
      "outputs": []
    },
    {
      "cell_type": "code",
      "metadata": {
        "id": "VWEe_m9YYNFi"
      },
      "source": [
        "SEED = 42\n",
        "\n",
        "os.environ['PYTHONHASHSEED'] = str(SEED)\n",
        "random.seed(SEED)\n",
        "np.random.seed(SEED)\n",
        "torch.manual_seed(SEED)\n",
        "try:\n",
        "    torch.use_deterministic_algorithms(True)\n",
        "except AttributeError:\n",
        "    torch.set_deterministic(True)\n",
        "torch.backends.cudnn.deterministic = True"
      ],
      "execution_count": null,
      "outputs": []
    },
    {
      "cell_type": "markdown",
      "metadata": {
        "id": "e6cSFF7faEsX"
      },
      "source": [
        "### MNIST 데이터\n",
        "[MNIST](http://yann.lecun.com/exdb/mnist/)  \n",
        "[PyTorch](https://pytorch.org/vision/stable/datasets.html#torchvision.datasets.MNIST)"
      ]
    },
    {
      "cell_type": "code",
      "metadata": {
        "id": "s_iFiDs_ZpL6"
      },
      "source": [
        "import torchvision.transforms as transforms\n",
        "\n",
        "from torchvision.datasets import MNIST"
      ],
      "execution_count": null,
      "outputs": []
    },
    {
      "cell_type": "code",
      "metadata": {
        "id": "_tJ08QdHZvNI"
      },
      "source": [
        "trainset = MNIST('./data', train=True, download=True, transform=transforms.ToTensor())"
      ],
      "execution_count": null,
      "outputs": []
    },
    {
      "cell_type": "code",
      "metadata": {
        "id": "e0aNotngcPKz"
      },
      "source": [
        "print(type(trainset))"
      ],
      "execution_count": null,
      "outputs": []
    },
    {
      "cell_type": "code",
      "metadata": {
        "id": "0ZG2zSZDcnie"
      },
      "source": [
        "trainset"
      ],
      "execution_count": null,
      "outputs": []
    },
    {
      "cell_type": "code",
      "metadata": {
        "id": "Yde4LfH9cRKS"
      },
      "source": [
        "print(type(trainset.data), type(trainset.targets))"
      ],
      "execution_count": null,
      "outputs": []
    },
    {
      "cell_type": "code",
      "metadata": {
        "id": "uX_JPGyvcWy0"
      },
      "source": [
        "print(trainset.data.size(), trainset.targets.size())"
      ],
      "execution_count": null,
      "outputs": []
    },
    {
      "cell_type": "code",
      "metadata": {
        "id": "DrKwtpOWoRyv"
      },
      "source": [
        "print(trainset.classes)"
      ],
      "execution_count": null,
      "outputs": []
    },
    {
      "cell_type": "code",
      "metadata": {
        "id": "GxeQYphLobsR"
      },
      "source": [
        "from torch.utils.data import DataLoader"
      ],
      "execution_count": null,
      "outputs": []
    },
    {
      "cell_type": "code",
      "metadata": {
        "id": "u5zpXiQuolw5"
      },
      "source": [
        "trainloader = DataLoader(trainset, batch_size=1024, shuffle=True)"
      ],
      "execution_count": null,
      "outputs": []
    },
    {
      "cell_type": "markdown",
      "metadata": {
        "id": "khK77Jm8c9tz"
      },
      "source": [
        "### PyTorch 분류기"
      ]
    },
    {
      "cell_type": "code",
      "metadata": {
        "id": "lXLLmYpuq72l"
      },
      "source": [
        "device = torch.device('cuda' if torch.cuda.is_available() else 'cpu')"
      ],
      "execution_count": null,
      "outputs": []
    },
    {
      "cell_type": "code",
      "metadata": {
        "id": "6py3lmQWdCdT"
      },
      "source": [
        "import torch.nn as nn"
      ],
      "execution_count": null,
      "outputs": []
    },
    {
      "cell_type": "code",
      "metadata": {
        "id": "RWfZfePwcYHj"
      },
      "source": [
        "class Net(nn.Module):\n",
        "    def __init__(self):\n",
        "        super().__init__()\n",
        "        self.fc = nn.Linear(28 * 28, 10)\n",
        "\n",
        "    def forward(self, x):\n",
        "        x = x.view(x.shape[0], -1)\n",
        "        out = self.fc(x)\n",
        "        return out"
      ],
      "execution_count": null,
      "outputs": []
    },
    {
      "cell_type": "code",
      "metadata": {
        "id": "PwRjpeBioFjW"
      },
      "source": [
        "model = Net()"
      ],
      "execution_count": null,
      "outputs": []
    },
    {
      "cell_type": "code",
      "metadata": {
        "id": "5t1NVo6xoInB"
      },
      "source": [
        "criterion = nn.CrossEntropyLoss()"
      ],
      "execution_count": null,
      "outputs": []
    },
    {
      "cell_type": "code",
      "metadata": {
        "id": "Q8Iyy6LxoKuS"
      },
      "source": [
        "optim = torch.optim.SGD(model.parameters(), lr=0.001)"
      ],
      "execution_count": null,
      "outputs": []
    },
    {
      "cell_type": "code",
      "metadata": {
        "id": "GFo0xH62o0Ur"
      },
      "source": [
        "EPOCHS = 30\n",
        "\n",
        "model.train()\n",
        "\n",
        "losses = []\n",
        "\n",
        "for e in range(EPOCHS):\n",
        "\n",
        "    e_loss = []\n",
        "\n",
        "    for xs, ys in trainloader:\n",
        "        xs, ys = xs.to(device), ys.to(device)\n",
        "        output = model(xs)\n",
        "        loss = criterion(output, ys)\n",
        "        optim.zero_grad()\n",
        "        loss.backward()\n",
        "        optim.step()\n",
        "\n",
        "        e_loss.append(loss.item())\n",
        "\n",
        "    print(f'[{e+1:2d}/{EPOCHS}] CE Los {np.mean(e_loss):.4f}')\n",
        "\n",
        "    losses.append(np.mean(e_loss))"
      ],
      "execution_count": null,
      "outputs": []
    },
    {
      "cell_type": "code",
      "metadata": {
        "id": "xFRLV9GRpv94"
      },
      "source": [
        "import matplotlib.pyplot as plt"
      ],
      "execution_count": null,
      "outputs": []
    },
    {
      "cell_type": "code",
      "metadata": {
        "id": "I7j_ZRsQpzcV"
      },
      "source": [
        "plt.plot(e_loss)\n",
        "plt.show()"
      ],
      "execution_count": null,
      "outputs": []
    },
    {
      "cell_type": "markdown",
      "metadata": {
        "id": "waqm2yD5cxY5"
      },
      "source": [
        "### 테스트"
      ]
    },
    {
      "cell_type": "code",
      "metadata": {
        "id": "0LOZfKKWa0-w"
      },
      "source": [
        "testset = MNIST('./data', train=False, transform=transforms.ToTensor())"
      ],
      "execution_count": null,
      "outputs": []
    },
    {
      "cell_type": "code",
      "metadata": {
        "id": "eBQ8q4Eep6o5"
      },
      "source": [
        "testloader = DataLoader(testset, batch_size=1024)"
      ],
      "execution_count": null,
      "outputs": []
    },
    {
      "cell_type": "code",
      "metadata": {
        "id": "CbEQm21fqDBX"
      },
      "source": [
        "correct, total = 0, 0\n",
        "\n",
        "model.eval()\n",
        "\n",
        "with torch.no_grad():\n",
        "    for xs, ys in testloader:\n",
        "        xs, ys = xs.to(device), ys.to(device)\n",
        "        output = model(xs)\n",
        "\n",
        "        _, predicted = torch.max(output, 1)\n",
        "\n",
        "        total += ys.size(0)\n",
        "        correct += (predicted == ys).sum().item()"
      ],
      "execution_count": null,
      "outputs": []
    },
    {
      "cell_type": "code",
      "metadata": {
        "id": "_JNLNGY_ql_9"
      },
      "source": [
        "print('Accuracy: ', 100 * correct / total)"
      ],
      "execution_count": null,
      "outputs": []
    },
    {
      "cell_type": "code",
      "metadata": {
        "id": "Wcy3AbQZrYzY"
      },
      "source": [
        ""
      ],
      "execution_count": null,
      "outputs": []
    }
  ]
}