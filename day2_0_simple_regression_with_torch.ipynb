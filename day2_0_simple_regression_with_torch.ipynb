{
  "nbformat": 4,
  "nbformat_minor": 0,
  "metadata": {
    "colab": {
      "name": "day2_0_simple_regression_with_torch.ipynb",
      "provenance": [],
      "collapsed_sections": []
    },
    "kernelspec": {
      "name": "python3",
      "display_name": "Python 3"
    },
    "language_info": {
      "name": "python"
    },
    "accelerator": "GPU"
  },
  "cells": [
    {
      "cell_type": "markdown",
      "metadata": {
        "id": "v7Ku-6r-Okes"
      },
      "source": [
        "### 임의의 데이터 생성"
      ]
    },
    {
      "cell_type": "code",
      "metadata": {
        "id": "XenBURVEz-w1"
      },
      "source": [
        "from sklearn.datasets import make_regression"
      ],
      "execution_count": null,
      "outputs": []
    },
    {
      "cell_type": "code",
      "metadata": {
        "id": "HN_XHUC-QJ7c"
      },
      "source": [
        "X, Y = make_regression(n_samples=200, n_features=5, random_state=42)"
      ],
      "execution_count": null,
      "outputs": []
    },
    {
      "cell_type": "code",
      "metadata": {
        "id": "9M_dUh_1Qavi"
      },
      "source": [
        "print(type(X), type(Y))"
      ],
      "execution_count": null,
      "outputs": []
    },
    {
      "cell_type": "code",
      "metadata": {
        "id": "eZbeHkjeIAty"
      },
      "source": [
        "print(X.shape, Y.shape)"
      ],
      "execution_count": null,
      "outputs": []
    },
    {
      "cell_type": "markdown",
      "metadata": {
        "id": "siLy-GSYGtye"
      },
      "source": [
        "### PyTorch 회귀"
      ]
    },
    {
      "cell_type": "code",
      "metadata": {
        "id": "-AsaMcNEJagj"
      },
      "source": [
        "import torch"
      ],
      "execution_count": null,
      "outputs": []
    },
    {
      "cell_type": "code",
      "metadata": {
        "id": "SePCTfcxIFOi"
      },
      "source": [
        "device = torch.device('cuda' if torch.cuda.is_available() else 'cpu')"
      ],
      "execution_count": null,
      "outputs": []
    },
    {
      "cell_type": "code",
      "metadata": {
        "id": "3HNyQ6MkLQZf"
      },
      "source": [
        "print(device)"
      ],
      "execution_count": null,
      "outputs": []
    },
    {
      "cell_type": "code",
      "metadata": {
        "id": "OZeH2_oMEk31"
      },
      "source": [
        "import torch.nn as nn"
      ],
      "execution_count": null,
      "outputs": []
    },
    {
      "cell_type": "code",
      "metadata": {
        "id": "6nQChf8QGzkj"
      },
      "source": [
        "model = nn.Linear(in_features=5, out_features=1, bias=True)"
      ],
      "execution_count": null,
      "outputs": []
    },
    {
      "cell_type": "code",
      "metadata": {
        "id": "A9h83RHtG_c0"
      },
      "source": [
        "criterion = nn.MSELoss()"
      ],
      "execution_count": null,
      "outputs": []
    },
    {
      "cell_type": "code",
      "metadata": {
        "id": "iD4iUxF8G_Wq"
      },
      "source": [
        "optim = torch.optim.Adam(params=model.parameters(), lr=0.01)"
      ],
      "execution_count": null,
      "outputs": []
    },
    {
      "cell_type": "code",
      "metadata": {
        "id": "Mt5xdd0VQdX5"
      },
      "source": [
        "X = torch.from_numpy(X).float()\n",
        "Y = torch.from_numpy(Y).float()"
      ],
      "execution_count": null,
      "outputs": []
    },
    {
      "cell_type": "code",
      "metadata": {
        "id": "jDht7IelIvqh"
      },
      "source": [
        "print(type(X), type(Y))"
      ],
      "execution_count": null,
      "outputs": []
    },
    {
      "cell_type": "code",
      "metadata": {
        "id": "p5pOLD51JlgV"
      },
      "source": [
        "print(X.size(), Y.size())"
      ],
      "execution_count": null,
      "outputs": []
    },
    {
      "cell_type": "code",
      "metadata": {
        "id": "F0E_kLBwJvVS"
      },
      "source": [
        "Y = torch.unsqueeze(Y, 1)"
      ],
      "execution_count": null,
      "outputs": []
    },
    {
      "cell_type": "code",
      "metadata": {
        "id": "I66ipdhwLaoV"
      },
      "source": [
        "print(Y.size())"
      ],
      "execution_count": null,
      "outputs": []
    },
    {
      "cell_type": "code",
      "metadata": {
        "id": "JZ83XHQCJuKX"
      },
      "source": [
        "model, X, Y = model.to(device), X.to(device), Y.to(device)"
      ],
      "execution_count": null,
      "outputs": []
    },
    {
      "cell_type": "code",
      "metadata": {
        "id": "GtV40I4PG_O2"
      },
      "source": [
        "EPOCHS = 10000\n",
        "\n",
        "model.train()\n",
        "\n",
        "for e in range(EPOCHS):\n",
        "    output = model(X)\n",
        "    loss = criterion(output, Y)\n",
        "    optim.zero_grad()\n",
        "    loss.backward()\n",
        "    optim.step()\n",
        "\n",
        "    if (e + 1) % 500 == 0:\n",
        "        print(f'[{e+1:5d}/{EPOCHS}] MSE Loss {loss:.4f}')"
      ],
      "execution_count": null,
      "outputs": []
    },
    {
      "cell_type": "code",
      "metadata": {
        "id": "a9EYoagdOyp-"
      },
      "source": [
        ""
      ],
      "execution_count": null,
      "outputs": []
    }
  ]
}