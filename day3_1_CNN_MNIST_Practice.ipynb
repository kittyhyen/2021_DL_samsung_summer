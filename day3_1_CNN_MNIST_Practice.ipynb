{
 "cells": [
  {
   "cell_type": "code",
   "execution_count": 1,
   "metadata": {},
   "outputs": [],
   "source": [
    "import torch\n",
    "import torch.nn as nn\n",
    "import torch.optim as optim\n",
    "import torch.nn.functional as F\n",
    "from torchvision import datasets, transforms, utils\n",
    "from torch.utils import data\n",
    "\n",
    "import matplotlib.pyplot as plt\n",
    "import numpy as np"
   ]
  },
  {
   "cell_type": "code",
   "execution_count": 2,
   "metadata": {},
   "outputs": [],
   "source": [
    "USE_CUDA = torch.cuda.is_available()\n",
    "DEVICE = torch.device(\"cuda\" if USE_CUDA else \"cpu\")"
   ]
  },
  {
   "cell_type": "code",
   "execution_count": 3,
   "metadata": {},
   "outputs": [],
   "source": [
    "EPOCHS     = 10\n",
    "BATCH_SIZE = 64"
   ]
  },
  {
   "cell_type": "code",
   "execution_count": 4,
   "metadata": {},
   "outputs": [],
   "source": [
    "transform=transforms.Compose([\n",
    "                       transforms.ToTensor()\n",
    "                   ])"
   ]
  },
  {
   "cell_type": "code",
   "execution_count": 7,
   "metadata": {},
   "outputs": [],
   "source": [
    "trainset = datasets.MNIST(\n",
    "    root      = './.data/', \n",
    "    train     = True,\n",
    "    download  = True,\n",
    "    transform = transform\n",
    ")\n",
    "testset = datasets.MNIST(\n",
    "    root      = './.data/', \n",
    "    train     = False,\n",
    "    download  = True,\n",
    "    transform = transform\n",
    ")"
   ]
  },
  {
   "cell_type": "code",
   "execution_count": 6,
   "metadata": {},
   "outputs": [],
   "source": [
    "train_loader = data.DataLoader(\n",
    "    dataset     = trainset,\n",
    "    batch_size  = BATCH_SIZE, shuffle=True\n",
    ")\n",
    "test_loader = data.DataLoader(\n",
    "    dataset     = testset,\n",
    "    batch_size  = BATCH_SIZE, shuffle=True\n",
    ")"
   ]
  },
  {
   "cell_type": "code",
   "execution_count": 7,
   "metadata": {},
   "outputs": [],
   "source": [
    "dataiter = iter(train_loader)\n",
    "images, labels = next(dataiter)"
   ]
  },
  {
   "cell_type": "code",
   "execution_count": 8,
   "metadata": {},
   "outputs": [
    {
     "data": {
      "text/plain": [
       "torch.Size([1, 28, 28])"
      ]
     },
     "execution_count": 8,
     "metadata": {},
     "output_type": "execute_result"
    }
   ],
   "source": [
    "images[0].shape"
   ]
  },
  {
   "cell_type": "code",
   "execution_count": 9,
   "metadata": {},
   "outputs": [
    {
     "name": "stdout",
     "output_type": "stream",
     "text": [
      "tensor([0, 3, 7, 7, 3, 4, 3, 6, 5, 0, 9, 1, 7, 4, 3, 7, 3, 2, 7, 2, 1, 6, 5, 7,\n",
      "        7, 6, 9, 3, 7, 2, 9, 8, 6, 0, 9, 4, 4, 2, 4, 7, 4, 8, 0, 6, 2, 1, 3, 6,\n",
      "        1, 1, 3, 9, 5, 6, 1, 5, 7, 5, 1, 6, 3, 1, 1, 5])\n"
     ]
    }
   ],
   "source": [
    "print(labels)"
   ]
  },
  {
   "cell_type": "code",
   "execution_count": 8,
   "metadata": {},
   "outputs": [
    {
     "name": "stderr",
     "output_type": "stream",
     "text": [
      "9920512it [00:20, 4612202.73it/s]                                                                                      "
     ]
    }
   ],
   "source": [
    "CLASSES = {\n",
    "    0: 'zero',\n",
    "    1: 'one',\n",
    "    2: 'two',\n",
    "    3: 'three',\n",
    "    4: 'four',\n",
    "    5: 'five',\n",
    "    6: 'six',\n",
    "    7: 'seven',\n",
    "    8: 'eight',\n",
    "    9: 'nine'\n",
    "}\n",
    "\n",
    "\n",
    "for label in labels:\n",
    "    index = label.item()\n",
    "    print(CLASSES[index])"
   ]
  },
  {
   "cell_type": "code",
   "execution_count": 11,
   "metadata": {},
   "outputs": [
    {
     "name": "stdout",
     "output_type": "stream",
     "text": [
      "(28, 28)\n"
     ]
    },
    {
     "data": {
      "image/png": "[encoded data removed]",
      "text/plain": [
       "<Figure size 432x288 with 1 Axes>"
      ]
     },
     "metadata": {
      "needs_background": "light"
     },
     "output_type": "display_data"
    }
   ],
   "source": [
    "idx = 1\n",
    "\n",
    "item_img = images[idx]\n",
    "item_npimg = item_img.squeeze().numpy()\n",
    "plt.title(CLASSES[labels[idx].item()])\n",
    "print(item_npimg.shape)\n",
    "plt.imshow(item_npimg, cmap='gray')\n",
    "plt.show()"
   ]
  },
  {
   "cell_type": "markdown",
   "metadata": {},
   "source": [
    "### (복습) DNN 모델을 작성해봅시다."
   ]
  },
  {
   "cell_type": "code",
   "execution_count": 12,
   "metadata": {},
   "outputs": [],
   "source": [
    "class Net(nn.Module):\n",
    "\n",
    "\n",
    "    \n",
    "    \n",
    "    \n",
    "    "
   ]
  },
  {
   "cell_type": "markdown",
   "metadata": {},
   "source": [
    "### Convolution 모델을 같이 작성해봅시다."
   ]
  },
  {
   "cell_type": "code",
   "execution_count": 2,
   "metadata": {},
   "outputs": [],
   "source": [
    "class Net(nn.Module):\n",
    "\n",
    "    \n",
    "    \n",
    "    \n",
    "    \n",
    "    "
   ]
  },
  {
   "cell_type": "code",
   "execution_count": 15,
   "metadata": {},
   "outputs": [],
   "source": [
    "model     = Net().to(DEVICE)\n",
    "optimizer = optim.SGD(model.parameters(), lr=0.01, momentum=0.5)"
   ]
  },
  {
   "cell_type": "code",
   "execution_count": 16,
   "metadata": {},
   "outputs": [],
   "source": [
    "def train(model, train_loader, optimizer, epoch):\n",
    "    model.train()\n",
    "    for batch_idx, (data, target) in enumerate(train_loader):\n",
    "        data, target = data.to(DEVICE), target.to(DEVICE)\n",
    "        optimizer.zero_grad()\n",
    "        output = model(data)\n",
    "        loss = F.cross_entropy(output, target)\n",
    "        loss.backward()\n",
    "        optimizer.step()\n",
    "\n",
    "        if batch_idx % 200 == 0:\n",
    "            print('Train Epoch: {} [{}/{} ({:.0f}%)]\\tLoss: {:.6f}'.format(\n",
    "                epoch, batch_idx * len(data), len(train_loader.dataset),\n",
    "                100. * batch_idx / len(train_loader), loss.item()))"
   ]
  },
  {
   "cell_type": "code",
   "execution_count": 17,
   "metadata": {},
   "outputs": [],
   "source": [
    "def evaluate(model, test_loader):\n",
    "    model.eval()\n",
    "    test_loss = 0\n",
    "    correct = 0\n",
    "    with torch.no_grad():\n",
    "        for data, target in test_loader:\n",
    "            data, target = data.to(DEVICE), target.to(DEVICE)\n",
    "            output = model(data)\n",
    "            test_loss += F.cross_entropy(output, target,\n",
    "                                         reduction='sum').item()\n",
    "            pred = output.max(1, keepdim=True)[1]\n",
    "            correct += pred.eq(target.view_as(pred)).sum().item()\n",
    "\n",
    "    test_loss /= len(test_loader.dataset)\n",
    "    test_accuracy = 100. * correct / len(test_loader.dataset)\n",
    "    return test_loss, test_accuracy"
   ]
  },
  {
   "cell_type": "code",
   "execution_count": 18,
   "metadata": {},
   "outputs": [
    {
     "name": "stdout",
     "output_type": "stream",
     "text": [
      "Train Epoch: 1 [0/60000 (0%)]\tLoss: 2.296718\n",
      "Train Epoch: 1 [12800/60000 (21%)]\tLoss: 2.110795\n",
      "Train Epoch: 1 [25600/60000 (43%)]\tLoss: 1.243021\n",
      "Train Epoch: 1 [38400/60000 (64%)]\tLoss: 0.754420\n",
      "Train Epoch: 1 [51200/60000 (85%)]\tLoss: 0.810420\n",
      "[1] Test Loss: 0.4777, Accuracy: 85.66%\n",
      "Train Epoch: 2 [0/60000 (0%)]\tLoss: 0.720999\n",
      "Train Epoch: 2 [12800/60000 (21%)]\tLoss: 0.647303\n",
      "Train Epoch: 2 [25600/60000 (43%)]\tLoss: 0.738958\n",
      "Train Epoch: 2 [38400/60000 (64%)]\tLoss: 0.522457\n",
      "Train Epoch: 2 [51200/60000 (85%)]\tLoss: 0.640629\n",
      "[2] Test Loss: 0.2993, Accuracy: 90.65%\n",
      "Train Epoch: 3 [0/60000 (0%)]\tLoss: 0.700922\n",
      "Train Epoch: 3 [12800/60000 (21%)]\tLoss: 0.551432\n",
      "Train Epoch: 3 [25600/60000 (43%)]\tLoss: 0.489066\n",
      "Train Epoch: 3 [38400/60000 (64%)]\tLoss: 0.355402\n",
      "Train Epoch: 3 [51200/60000 (85%)]\tLoss: 0.427805\n",
      "[3] Test Loss: 0.2304, Accuracy: 93.19%\n",
      "Train Epoch: 4 [0/60000 (0%)]\tLoss: 0.304986\n",
      "Train Epoch: 4 [12800/60000 (21%)]\tLoss: 0.385309\n",
      "Train Epoch: 4 [25600/60000 (43%)]\tLoss: 0.377238\n",
      "Train Epoch: 4 [38400/60000 (64%)]\tLoss: 0.353949\n",
      "Train Epoch: 4 [51200/60000 (85%)]\tLoss: 0.366231\n",
      "[4] Test Loss: 0.1901, Accuracy: 94.54%\n",
      "Train Epoch: 5 [0/60000 (0%)]\tLoss: 0.254264\n",
      "Train Epoch: 5 [12800/60000 (21%)]\tLoss: 0.491693\n",
      "Train Epoch: 5 [25600/60000 (43%)]\tLoss: 0.575563\n",
      "Train Epoch: 5 [38400/60000 (64%)]\tLoss: 0.402677\n",
      "Train Epoch: 5 [51200/60000 (85%)]\tLoss: 0.305596\n",
      "[5] Test Loss: 0.1597, Accuracy: 95.15%\n",
      "Train Epoch: 6 [0/60000 (0%)]\tLoss: 0.438426\n",
      "Train Epoch: 6 [12800/60000 (21%)]\tLoss: 0.184584\n",
      "Train Epoch: 6 [25600/60000 (43%)]\tLoss: 0.414873\n",
      "Train Epoch: 6 [38400/60000 (64%)]\tLoss: 0.479239\n",
      "Train Epoch: 6 [51200/60000 (85%)]\tLoss: 0.419443\n",
      "[6] Test Loss: 0.1510, Accuracy: 95.54%\n",
      "Train Epoch: 7 [0/60000 (0%)]\tLoss: 0.258469\n",
      "Train Epoch: 7 [12800/60000 (21%)]\tLoss: 0.360945\n",
      "Train Epoch: 7 [25600/60000 (43%)]\tLoss: 0.322269\n",
      "Train Epoch: 7 [38400/60000 (64%)]\tLoss: 0.403013\n",
      "Train Epoch: 7 [51200/60000 (85%)]\tLoss: 0.243169\n",
      "[7] Test Loss: 0.1329, Accuracy: 96.09%\n",
      "Train Epoch: 8 [0/60000 (0%)]\tLoss: 0.252855\n",
      "Train Epoch: 8 [12800/60000 (21%)]\tLoss: 0.357712\n",
      "Train Epoch: 8 [25600/60000 (43%)]\tLoss: 0.306067\n",
      "Train Epoch: 8 [38400/60000 (64%)]\tLoss: 0.378601\n",
      "Train Epoch: 8 [51200/60000 (85%)]\tLoss: 0.335684\n",
      "[8] Test Loss: 0.1222, Accuracy: 96.28%\n",
      "Train Epoch: 9 [0/60000 (0%)]\tLoss: 0.260031\n",
      "Train Epoch: 9 [12800/60000 (21%)]\tLoss: 0.271469\n",
      "Train Epoch: 9 [25600/60000 (43%)]\tLoss: 0.315743\n",
      "Train Epoch: 9 [38400/60000 (64%)]\tLoss: 0.313816\n",
      "Train Epoch: 9 [51200/60000 (85%)]\tLoss: 0.350263\n",
      "[9] Test Loss: 0.1173, Accuracy: 96.40%\n",
      "Train Epoch: 10 [0/60000 (0%)]\tLoss: 0.338723\n",
      "Train Epoch: 10 [12800/60000 (21%)]\tLoss: 0.226688\n",
      "Train Epoch: 10 [25600/60000 (43%)]\tLoss: 0.192927\n",
      "Train Epoch: 10 [38400/60000 (64%)]\tLoss: 0.248368\n",
      "Train Epoch: 10 [51200/60000 (85%)]\tLoss: 0.319462\n",
      "[10] Test Loss: 0.1156, Accuracy: 96.45%\n",
      "Train Epoch: 11 [0/60000 (0%)]\tLoss: 0.356105\n",
      "Train Epoch: 11 [12800/60000 (21%)]\tLoss: 0.276400\n",
      "Train Epoch: 11 [25600/60000 (43%)]\tLoss: 0.257903\n",
      "Train Epoch: 11 [38400/60000 (64%)]\tLoss: 0.262787\n",
      "Train Epoch: 11 [51200/60000 (85%)]\tLoss: 0.288574\n",
      "[11] Test Loss: 0.1070, Accuracy: 96.64%\n",
      "Train Epoch: 12 [0/60000 (0%)]\tLoss: 0.336645\n",
      "Train Epoch: 12 [12800/60000 (21%)]\tLoss: 0.224760\n",
      "Train Epoch: 12 [25600/60000 (43%)]\tLoss: 0.347825\n",
      "Train Epoch: 12 [38400/60000 (64%)]\tLoss: 0.183809\n",
      "Train Epoch: 12 [51200/60000 (85%)]\tLoss: 0.141677\n",
      "[12] Test Loss: 0.1006, Accuracy: 96.80%\n",
      "Train Epoch: 13 [0/60000 (0%)]\tLoss: 0.283670\n",
      "Train Epoch: 13 [12800/60000 (21%)]\tLoss: 0.310284\n",
      "Train Epoch: 13 [25600/60000 (43%)]\tLoss: 0.322213\n",
      "Train Epoch: 13 [38400/60000 (64%)]\tLoss: 0.388551\n",
      "Train Epoch: 13 [51200/60000 (85%)]\tLoss: 0.161096\n",
      "[13] Test Loss: 0.0945, Accuracy: 97.06%\n",
      "Train Epoch: 14 [0/60000 (0%)]\tLoss: 0.441743\n",
      "Train Epoch: 14 [12800/60000 (21%)]\tLoss: 0.407562\n",
      "Train Epoch: 14 [25600/60000 (43%)]\tLoss: 0.443871\n",
      "Train Epoch: 14 [38400/60000 (64%)]\tLoss: 0.173627\n",
      "Train Epoch: 14 [51200/60000 (85%)]\tLoss: 0.098234\n",
      "[14] Test Loss: 0.0889, Accuracy: 97.32%\n",
      "Train Epoch: 15 [0/60000 (0%)]\tLoss: 0.331070\n",
      "Train Epoch: 15 [12800/60000 (21%)]\tLoss: 0.402147\n",
      "Train Epoch: 15 [25600/60000 (43%)]\tLoss: 0.264029\n",
      "Train Epoch: 15 [38400/60000 (64%)]\tLoss: 0.297860\n",
      "Train Epoch: 15 [51200/60000 (85%)]\tLoss: 0.166019\n",
      "[15] Test Loss: 0.0877, Accuracy: 97.28%\n",
      "Train Epoch: 16 [0/60000 (0%)]\tLoss: 0.066366\n",
      "Train Epoch: 16 [12800/60000 (21%)]\tLoss: 0.142621\n",
      "Train Epoch: 16 [25600/60000 (43%)]\tLoss: 0.224329\n",
      "Train Epoch: 16 [38400/60000 (64%)]\tLoss: 0.195014\n",
      "Train Epoch: 16 [51200/60000 (85%)]\tLoss: 0.233988\n",
      "[16] Test Loss: 0.0886, Accuracy: 97.19%\n",
      "Train Epoch: 17 [0/60000 (0%)]\tLoss: 0.196868\n",
      "Train Epoch: 17 [12800/60000 (21%)]\tLoss: 0.090696\n",
      "Train Epoch: 17 [25600/60000 (43%)]\tLoss: 0.275107\n",
      "Train Epoch: 17 [38400/60000 (64%)]\tLoss: 0.178026\n",
      "Train Epoch: 17 [51200/60000 (85%)]\tLoss: 0.072618\n",
      "[17] Test Loss: 0.0795, Accuracy: 97.62%\n",
      "Train Epoch: 18 [0/60000 (0%)]\tLoss: 0.126127\n",
      "Train Epoch: 18 [12800/60000 (21%)]\tLoss: 0.502979\n",
      "Train Epoch: 18 [25600/60000 (43%)]\tLoss: 0.081139\n",
      "Train Epoch: 18 [38400/60000 (64%)]\tLoss: 0.237101\n",
      "Train Epoch: 18 [51200/60000 (85%)]\tLoss: 0.262128\n",
      "[18] Test Loss: 0.0766, Accuracy: 97.47%\n",
      "Train Epoch: 19 [0/60000 (0%)]\tLoss: 0.241315\n",
      "Train Epoch: 19 [12800/60000 (21%)]\tLoss: 0.092629\n",
      "Train Epoch: 19 [25600/60000 (43%)]\tLoss: 0.156353\n",
      "Train Epoch: 19 [38400/60000 (64%)]\tLoss: 0.265603\n",
      "Train Epoch: 19 [51200/60000 (85%)]\tLoss: 0.131675\n",
      "[19] Test Loss: 0.0805, Accuracy: 97.42%\n",
      "Train Epoch: 20 [0/60000 (0%)]\tLoss: 0.189366\n",
      "Train Epoch: 20 [12800/60000 (21%)]\tLoss: 0.321201\n",
      "Train Epoch: 20 [25600/60000 (43%)]\tLoss: 0.098789\n",
      "Train Epoch: 20 [38400/60000 (64%)]\tLoss: 0.129680\n",
      "Train Epoch: 20 [51200/60000 (85%)]\tLoss: 0.227209\n",
      "[20] Test Loss: 0.0755, Accuracy: 97.66%\n",
      "Train Epoch: 21 [0/60000 (0%)]\tLoss: 0.182959\n",
      "Train Epoch: 21 [12800/60000 (21%)]\tLoss: 0.073407\n",
      "Train Epoch: 21 [25600/60000 (43%)]\tLoss: 0.168878\n",
      "Train Epoch: 21 [38400/60000 (64%)]\tLoss: 0.282940\n",
      "Train Epoch: 21 [51200/60000 (85%)]\tLoss: 0.269879\n",
      "[21] Test Loss: 0.0697, Accuracy: 97.77%\n",
      "Train Epoch: 22 [0/60000 (0%)]\tLoss: 0.123370\n",
      "Train Epoch: 22 [12800/60000 (21%)]\tLoss: 0.315199\n",
      "Train Epoch: 22 [25600/60000 (43%)]\tLoss: 0.229769\n",
      "Train Epoch: 22 [38400/60000 (64%)]\tLoss: 0.236528\n",
      "Train Epoch: 22 [51200/60000 (85%)]\tLoss: 0.171894\n",
      "[22] Test Loss: 0.0706, Accuracy: 97.72%\n",
      "Train Epoch: 23 [0/60000 (0%)]\tLoss: 0.180352\n",
      "Train Epoch: 23 [12800/60000 (21%)]\tLoss: 0.158312\n",
      "Train Epoch: 23 [25600/60000 (43%)]\tLoss: 0.194138\n",
      "Train Epoch: 23 [38400/60000 (64%)]\tLoss: 0.160713\n",
      "Train Epoch: 23 [51200/60000 (85%)]\tLoss: 0.344205\n",
      "[23] Test Loss: 0.0676, Accuracy: 97.89%\n",
      "Train Epoch: 24 [0/60000 (0%)]\tLoss: 0.292816\n",
      "Train Epoch: 24 [12800/60000 (21%)]\tLoss: 0.223224\n",
      "Train Epoch: 24 [25600/60000 (43%)]\tLoss: 0.299143\n",
      "Train Epoch: 24 [38400/60000 (64%)]\tLoss: 0.215837\n",
      "Train Epoch: 24 [51200/60000 (85%)]\tLoss: 0.173283\n",
      "[24] Test Loss: 0.0701, Accuracy: 97.88%\n",
      "Train Epoch: 25 [0/60000 (0%)]\tLoss: 0.133346\n",
      "Train Epoch: 25 [12800/60000 (21%)]\tLoss: 0.180062\n",
      "Train Epoch: 25 [25600/60000 (43%)]\tLoss: 0.121928\n",
      "Train Epoch: 25 [38400/60000 (64%)]\tLoss: 0.376081\n",
      "Train Epoch: 25 [51200/60000 (85%)]\tLoss: 0.226198\n",
      "[25] Test Loss: 0.0680, Accuracy: 97.76%\n",
      "Train Epoch: 26 [0/60000 (0%)]\tLoss: 0.145685\n",
      "Train Epoch: 26 [12800/60000 (21%)]\tLoss: 0.214881\n",
      "Train Epoch: 26 [25600/60000 (43%)]\tLoss: 0.204284\n",
      "Train Epoch: 26 [38400/60000 (64%)]\tLoss: 0.196866\n",
      "Train Epoch: 26 [51200/60000 (85%)]\tLoss: 0.214588\n",
      "[26] Test Loss: 0.0663, Accuracy: 97.95%\n",
      "Train Epoch: 27 [0/60000 (0%)]\tLoss: 0.075069\n",
      "Train Epoch: 27 [12800/60000 (21%)]\tLoss: 0.317798\n",
      "Train Epoch: 27 [25600/60000 (43%)]\tLoss: 0.259928\n",
      "Train Epoch: 27 [38400/60000 (64%)]\tLoss: 0.097514\n",
      "Train Epoch: 27 [51200/60000 (85%)]\tLoss: 0.132887\n",
      "[27] Test Loss: 0.0649, Accuracy: 98.00%\n",
      "Train Epoch: 28 [0/60000 (0%)]\tLoss: 0.070467\n",
      "Train Epoch: 28 [12800/60000 (21%)]\tLoss: 0.220718\n",
      "Train Epoch: 28 [25600/60000 (43%)]\tLoss: 0.100350\n",
      "Train Epoch: 28 [38400/60000 (64%)]\tLoss: 0.355400\n",
      "Train Epoch: 28 [51200/60000 (85%)]\tLoss: 0.140252\n",
      "[28] Test Loss: 0.0672, Accuracy: 97.89%\n",
      "Train Epoch: 29 [0/60000 (0%)]\tLoss: 0.306058\n",
      "Train Epoch: 29 [12800/60000 (21%)]\tLoss: 0.167503\n",
      "Train Epoch: 29 [25600/60000 (43%)]\tLoss: 0.104141\n",
      "Train Epoch: 29 [38400/60000 (64%)]\tLoss: 0.210561\n",
      "Train Epoch: 29 [51200/60000 (85%)]\tLoss: 0.195759\n",
      "[29] Test Loss: 0.0597, Accuracy: 98.14%\n",
      "Train Epoch: 30 [0/60000 (0%)]\tLoss: 0.065414\n",
      "Train Epoch: 30 [12800/60000 (21%)]\tLoss: 0.094297\n",
      "Train Epoch: 30 [25600/60000 (43%)]\tLoss: 0.103505\n",
      "Train Epoch: 30 [38400/60000 (64%)]\tLoss: 0.076205\n",
      "Train Epoch: 30 [51200/60000 (85%)]\tLoss: 0.109379\n",
      "[30] Test Loss: 0.0611, Accuracy: 97.92%\n",
      "Train Epoch: 31 [0/60000 (0%)]\tLoss: 0.159714\n",
      "Train Epoch: 31 [12800/60000 (21%)]\tLoss: 0.045001\n",
      "Train Epoch: 31 [25600/60000 (43%)]\tLoss: 0.422572\n",
      "Train Epoch: 31 [38400/60000 (64%)]\tLoss: 0.167392\n",
      "Train Epoch: 31 [51200/60000 (85%)]\tLoss: 0.137881\n",
      "[31] Test Loss: 0.0607, Accuracy: 97.84%\n",
      "Train Epoch: 32 [0/60000 (0%)]\tLoss: 0.168816\n",
      "Train Epoch: 32 [12800/60000 (21%)]\tLoss: 0.262414\n",
      "Train Epoch: 32 [25600/60000 (43%)]\tLoss: 0.212251\n",
      "Train Epoch: 32 [38400/60000 (64%)]\tLoss: 0.238976\n",
      "Train Epoch: 32 [51200/60000 (85%)]\tLoss: 0.121827\n",
      "[32] Test Loss: 0.0641, Accuracy: 97.98%\n",
      "Train Epoch: 33 [0/60000 (0%)]\tLoss: 0.344398\n",
      "Train Epoch: 33 [12800/60000 (21%)]\tLoss: 0.190804\n",
      "Train Epoch: 33 [25600/60000 (43%)]\tLoss: 0.264548\n",
      "Train Epoch: 33 [38400/60000 (64%)]\tLoss: 0.315293\n",
      "Train Epoch: 33 [51200/60000 (85%)]\tLoss: 0.052951\n",
      "[33] Test Loss: 0.0597, Accuracy: 98.02%\n",
      "Train Epoch: 34 [0/60000 (0%)]\tLoss: 0.242906\n",
      "Train Epoch: 34 [12800/60000 (21%)]\tLoss: 0.255157\n",
      "Train Epoch: 34 [25600/60000 (43%)]\tLoss: 0.095031\n",
      "Train Epoch: 34 [38400/60000 (64%)]\tLoss: 0.307670\n",
      "Train Epoch: 34 [51200/60000 (85%)]\tLoss: 0.224050\n",
      "[34] Test Loss: 0.0590, Accuracy: 98.14%\n",
      "Train Epoch: 35 [0/60000 (0%)]\tLoss: 0.285214\n",
      "Train Epoch: 35 [12800/60000 (21%)]\tLoss: 0.112437\n",
      "Train Epoch: 35 [25600/60000 (43%)]\tLoss: 0.214288\n",
      "Train Epoch: 35 [38400/60000 (64%)]\tLoss: 0.202066\n",
      "Train Epoch: 35 [51200/60000 (85%)]\tLoss: 0.220504\n",
      "[35] Test Loss: 0.0566, Accuracy: 98.14%\n",
      "Train Epoch: 36 [0/60000 (0%)]\tLoss: 0.178063\n",
      "Train Epoch: 36 [12800/60000 (21%)]\tLoss: 0.139149\n",
      "Train Epoch: 36 [25600/60000 (43%)]\tLoss: 0.298442\n",
      "Train Epoch: 36 [38400/60000 (64%)]\tLoss: 0.128226\n",
      "Train Epoch: 36 [51200/60000 (85%)]\tLoss: 0.268211\n",
      "[36] Test Loss: 0.0609, Accuracy: 97.95%\n",
      "Train Epoch: 37 [0/60000 (0%)]\tLoss: 0.216474\n",
      "Train Epoch: 37 [12800/60000 (21%)]\tLoss: 0.207864\n",
      "Train Epoch: 37 [25600/60000 (43%)]\tLoss: 0.085785\n",
      "Train Epoch: 37 [38400/60000 (64%)]\tLoss: 0.092596\n",
      "Train Epoch: 37 [51200/60000 (85%)]\tLoss: 0.109934\n",
      "[37] Test Loss: 0.0598, Accuracy: 97.96%\n",
      "Train Epoch: 38 [0/60000 (0%)]\tLoss: 0.272367\n",
      "Train Epoch: 38 [12800/60000 (21%)]\tLoss: 0.218860\n",
      "Train Epoch: 38 [25600/60000 (43%)]\tLoss: 0.252728\n",
      "Train Epoch: 38 [38400/60000 (64%)]\tLoss: 0.172482\n",
      "Train Epoch: 38 [51200/60000 (85%)]\tLoss: 0.067345\n",
      "[38] Test Loss: 0.0584, Accuracy: 98.14%\n",
      "Train Epoch: 39 [0/60000 (0%)]\tLoss: 0.164712\n",
      "Train Epoch: 39 [12800/60000 (21%)]\tLoss: 0.125313\n",
      "Train Epoch: 39 [25600/60000 (43%)]\tLoss: 0.224660\n",
      "Train Epoch: 39 [38400/60000 (64%)]\tLoss: 0.183107\n",
      "Train Epoch: 39 [51200/60000 (85%)]\tLoss: 0.180450\n",
      "[39] Test Loss: 0.0566, Accuracy: 98.10%\n",
      "Train Epoch: 40 [0/60000 (0%)]\tLoss: 0.179311\n",
      "Train Epoch: 40 [12800/60000 (21%)]\tLoss: 0.134580\n",
      "Train Epoch: 40 [25600/60000 (43%)]\tLoss: 0.276658\n",
      "Train Epoch: 40 [38400/60000 (64%)]\tLoss: 0.038052\n",
      "Train Epoch: 40 [51200/60000 (85%)]\tLoss: 0.072954\n",
      "[40] Test Loss: 0.0582, Accuracy: 98.06%\n"
     ]
    }
   ],
   "source": [
    "for epoch in range(1, EPOCHS + 1):\n",
    "    train(model, train_loader, optimizer, epoch)\n",
    "    test_loss, test_accuracy = evaluate(model, test_loader)\n",
    "    \n",
    "    print('[{}] Test Loss: {:.4f}, Accuracy: {:.2f}%'.format(\n",
    "          epoch, test_loss, test_accuracy))"
   ]
  },
  {
   "cell_type": "code",
   "execution_count": 19,
   "metadata": {},
   "outputs": [
    {
     "data": {
      "image/png": "[encoded data removed]",
      "text/plain": [
       "<Figure size 720x720 with 36 Axes>"
      ]
     },
     "metadata": {
      "needs_background": "light"
     },
     "output_type": "display_data"
    }
   ],
   "source": [
    "columns = 6\n",
    "rows = 6\n",
    "fig = plt.figure(figsize=(10,10))\n",
    " \n",
    "model.eval()\n",
    "for i in range(1, columns*rows+1):\n",
    "    data_idx = np.random.randint(len(testset))\n",
    "    input_img = testset[data_idx][0].unsqueeze(dim=0).to(DEVICE) \n",
    " \n",
    "    output = model(input_img)\n",
    "    _, argmax = torch.max(output, 1)\n",
    "    pred = CLASSES[argmax.item()]\n",
    "    label = CLASSES[testset[data_idx][1]]\n",
    "    \n",
    "    fig.add_subplot(rows, columns, i)\n",
    "    if pred == label:\n",
    "        plt.title(pred + ', right')\n",
    "        cmap = 'Blues'\n",
    "    else:\n",
    "        plt.title('N ' + pred + ' B ' +  label)\n",
    "        cmap = 'Reds'\n",
    "    plot_img = testset[data_idx][0][0,:,:]\n",
    "    plt.imshow(plot_img, cmap=cmap)\n",
    "    plt.axis('off')\n",
    "    \n",
    "plt.show() "
   ]
  },
  {
   "cell_type": "markdown",
   "metadata": {},
   "source": [
    "##  CNN을 이용해 Fashion MNIST 분류문제를 풀어봅시다"
   ]
  },
  {
   "cell_type": "code",
   "execution_count": 20,
   "metadata": {},
   "outputs": [],
   "source": [
    "trainset = datasets.FashionMNIST(\n",
    "    root      = './.data/', \n",
    "    train     = True,\n",
    "    download  = True,\n",
    "    transform = transform\n",
    ")\n",
    "testset = datasets.FashionMNIST(\n",
    "    root      = './.data/', \n",
    "    train     = False,\n",
    "    download  = True,\n",
    "    transform = transform\n",
    ")"
   ]
  },
  {
   "cell_type": "code",
   "execution_count": 21,
   "metadata": {},
   "outputs": [
    {
     "name": "stdout",
     "output_type": "stream",
     "text": [
      "T-shirt/top\n",
      "Dress\n",
      "Sneaker\n",
      "Sneaker\n",
      "Dress\n",
      "Coat\n",
      "Dress\n",
      "Shirt\n",
      "Sandal\n",
      "T-shirt/top\n",
      "Ankle boot\n",
      "Trouser\n",
      "Sneaker\n",
      "Coat\n",
      "Dress\n",
      "Sneaker\n",
      "Dress\n",
      "Pullover\n",
      "Sneaker\n",
      "Pullover\n",
      "Trouser\n",
      "Shirt\n",
      "Sandal\n",
      "Sneaker\n",
      "Sneaker\n",
      "Shirt\n",
      "Ankle boot\n",
      "Dress\n",
      "Sneaker\n",
      "Pullover\n",
      "Ankle boot\n",
      "Bag\n",
      "Shirt\n",
      "T-shirt/top\n",
      "Ankle boot\n",
      "Coat\n",
      "Coat\n",
      "Pullover\n",
      "Coat\n",
      "Sneaker\n",
      "Coat\n",
      "Bag\n",
      "T-shirt/top\n",
      "Shirt\n",
      "Pullover\n",
      "Trouser\n",
      "Dress\n",
      "Shirt\n",
      "Trouser\n",
      "Trouser\n",
      "Dress\n",
      "Ankle boot\n",
      "Sandal\n",
      "Shirt\n",
      "Trouser\n",
      "Sandal\n",
      "Sneaker\n",
      "Sandal\n",
      "Trouser\n",
      "Shirt\n",
      "Dress\n",
      "Trouser\n",
      "Trouser\n",
      "Sandal\n"
     ]
    }
   ],
   "source": [
    "CLASSES = {\n",
    "    0: 'T-shirt/top',\n",
    "    1: 'Trouser',\n",
    "    2: 'Pullover',\n",
    "    3: 'Dress',\n",
    "    4: 'Coat',\n",
    "    5: 'Sandal',\n",
    "    6: 'Shirt',\n",
    "    7: 'Sneaker',\n",
    "    8: 'Bag',\n",
    "    9: 'Ankle boot'\n",
    "}\n",
    "\n",
    "\n",
    "for label in labels:\n",
    "    index = label.item()\n",
    "    print(CLASSES[index])"
   ]
  },
  {
   "cell_type": "markdown",
   "metadata": {},
   "source": [
    "https://github.com/zalandoresearch/fashion-mnist"
   ]
  }
 ],
 "metadata": {
  "kernelspec": {
   "display_name": "Python 3",
   "language": "python",
   "name": "python3"
  },
  "language_info": {
   "codemirror_mode": {
    "name": "ipython",
    "version": 3
   },
   "file_extension": ".py",
   "mimetype": "text/x-python",
   "name": "python",
   "nbconvert_exporter": "python",
   "pygments_lexer": "ipython3",
   "version": "3.7.4"
  }
 },
 "nbformat": 4,
 "nbformat_minor": 2
}
