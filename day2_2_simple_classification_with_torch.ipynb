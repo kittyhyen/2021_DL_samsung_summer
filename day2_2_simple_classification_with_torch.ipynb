{
  "nbformat": 4,
  "nbformat_minor": 0,
  "metadata": {
    "colab": {
      "name": "day2_2_simple_classification_with_torch.ipynb",
      "provenance": [],
      "collapsed_sections": []
    },
    "kernelspec": {
      "name": "python3",
      "display_name": "Python 3"
    },
    "language_info": {
      "name": "python"
    },
    "accelerator": "GPU"
  },
  "cells": [
    {
      "cell_type": "markdown",
      "metadata": {
        "id": "-ZaMPhrTddf7"
      },
      "source": [
        "### 임의의 데이터 생성"
      ]
    },
    {
      "cell_type": "code",
      "metadata": {
        "id": "QHK49-eOdWXk"
      },
      "source": [
        "import numpy as np"
      ],
      "execution_count": null,
      "outputs": []
    },
    {
      "cell_type": "code",
      "metadata": {
        "id": "m74a1eLKdjFn"
      },
      "source": [
        "n_samples = 200\n",
        "\n",
        "x1 = np.repeat(np.array([1., -1., -1.]), n_samples)\n",
        "x2 = np.repeat(np.array([1., 1., -1.]), n_samples)\n",
        "y = np.repeat(np.array([0, 1, 2]), n_samples)"
      ],
      "execution_count": null,
      "outputs": []
    },
    {
      "cell_type": "code",
      "metadata": {
        "id": "UtDUh2QsefXf"
      },
      "source": [
        "print(x1.shape, x2.shape, y.shape)"
      ],
      "execution_count": null,
      "outputs": []
    },
    {
      "cell_type": "code",
      "metadata": {
        "id": "d9fgQJVre9ty"
      },
      "source": [
        "x1 += np.random.randn(len(x1)) * 0.1\n",
        "x2 += np.random.randn(len(x2)) * 0.1"
      ],
      "execution_count": null,
      "outputs": []
    },
    {
      "cell_type": "code",
      "metadata": {
        "id": "dmToRIsvfF1a"
      },
      "source": [
        "idx = np.random.shuffle(np.arange(len(y)))"
      ],
      "execution_count": null,
      "outputs": []
    },
    {
      "cell_type": "code",
      "metadata": {
        "id": "cA5a_P2sfy1L"
      },
      "source": [
        "x1 = x1[idx]\n",
        "x2 = x2[idx]\n",
        "y = y[idx]"
      ],
      "execution_count": null,
      "outputs": []
    },
    {
      "cell_type": "code",
      "metadata": {
        "id": "Eu7DZhnRf1Yj"
      },
      "source": [
        "import matplotlib.pyplot as plt"
      ],
      "execution_count": null,
      "outputs": []
    },
    {
      "cell_type": "code",
      "metadata": {
        "id": "vjZAl2Fif4lU"
      },
      "source": [
        "plt.scatter(x1, x2, c=y)\n",
        "plt.show()"
      ],
      "execution_count": null,
      "outputs": []
    },
    {
      "cell_type": "code",
      "metadata": {
        "id": "IMsAswregNLE"
      },
      "source": [
        "import torch"
      ],
      "execution_count": null,
      "outputs": []
    },
    {
      "cell_type": "code",
      "metadata": {
        "id": "BJkFWVy6f6lS"
      },
      "source": [
        "X1 = torch.from_numpy(x1).float()\n",
        "X2 = torch.from_numpy(x2).float()\n",
        "Y = torch.from_numpy(y).long()"
      ],
      "execution_count": null,
      "outputs": []
    },
    {
      "cell_type": "code",
      "metadata": {
        "id": "s6CMS1GhgLrt"
      },
      "source": [
        "print(type(X1), type(X2), type(Y))"
      ],
      "execution_count": null,
      "outputs": []
    },
    {
      "cell_type": "code",
      "metadata": {
        "id": "Grx51ovLgSnX"
      },
      "source": [
        "print(X1.size(), X2.size(), Y.size())"
      ],
      "execution_count": null,
      "outputs": []
    },
    {
      "cell_type": "code",
      "metadata": {
        "id": "TQAAmYSdgYxn"
      },
      "source": [
        "X1 = X1.view(-1, 1)\n",
        "X2 = X2.view(-1, 1)\n",
        "Y = Y.view(-1)"
      ],
      "execution_count": null,
      "outputs": []
    },
    {
      "cell_type": "code",
      "metadata": {
        "id": "yfS3jTXpgvgC"
      },
      "source": [
        "print(X1.size(), X2.size(), Y.size())"
      ],
      "execution_count": null,
      "outputs": []
    },
    {
      "cell_type": "code",
      "metadata": {
        "id": "r-iLBZ57g1EM"
      },
      "source": [
        "X = torch.hstack([X1, X2])"
      ],
      "execution_count": null,
      "outputs": []
    },
    {
      "cell_type": "code",
      "metadata": {
        "id": "2ABISLRwg8wW"
      },
      "source": [
        "print(X.size())"
      ],
      "execution_count": null,
      "outputs": []
    },
    {
      "cell_type": "markdown",
      "metadata": {
        "id": "Kbh0S0XDhBg2"
      },
      "source": [
        "### PyTorch 분류기"
      ]
    },
    {
      "cell_type": "code",
      "metadata": {
        "id": "sohih-7fi-3c"
      },
      "source": [
        "import torch"
      ],
      "execution_count": null,
      "outputs": []
    },
    {
      "cell_type": "code",
      "metadata": {
        "id": "Rj3_LxCMi-vo"
      },
      "source": [
        "device = torch.device('cuda' if torch.cuda.is_available() else 'cpu')"
      ],
      "execution_count": null,
      "outputs": []
    },
    {
      "cell_type": "code",
      "metadata": {
        "id": "M2i_nnophHI8"
      },
      "source": [
        "import torch.nn as nn"
      ],
      "execution_count": null,
      "outputs": []
    },
    {
      "cell_type": "code",
      "metadata": {
        "id": "C9QiK23PjVpS"
      },
      "source": [
        "class Net(nn.Module):\n",
        "    def __init__(self):\n",
        "        super().__init__()\n",
        "        self.fc = nn.Linear(2, 3)\n",
        "\n",
        "    def forward(self, x):\n",
        "        out = self.fc(x)\n",
        "        return out"
      ],
      "execution_count": null,
      "outputs": []
    },
    {
      "cell_type": "code",
      "metadata": {
        "id": "FbsdUWeWg-EO"
      },
      "source": [
        "model = Net()"
      ],
      "execution_count": null,
      "outputs": []
    },
    {
      "cell_type": "code",
      "metadata": {
        "id": "ni9YuD2ohVqY"
      },
      "source": [
        "criterion = nn.CrossEntropyLoss()"
      ],
      "execution_count": null,
      "outputs": []
    },
    {
      "cell_type": "code",
      "metadata": {
        "id": "EiZB6RdBiNy6"
      },
      "source": [
        "optim = torch.optim.SGD(model.parameters(), lr=0.01)"
      ],
      "execution_count": null,
      "outputs": []
    },
    {
      "cell_type": "code",
      "metadata": {
        "id": "tGsqCilHiQeh"
      },
      "source": [
        "model, X, Y = model.to(device), X.to(device), Y.to(device)"
      ],
      "execution_count": null,
      "outputs": []
    },
    {
      "cell_type": "code",
      "metadata": {
        "id": "jAj5HDJGigl1"
      },
      "source": [
        "EPOCHS = 10000\n",
        "\n",
        "model.train()\n",
        "\n",
        "for e in range(EPOCHS):\n",
        "    output = model(X)\n",
        "    loss = criterion(output, Y)\n",
        "    optim.zero_grad()\n",
        "    loss.backward()\n",
        "    optim.step()\n",
        "\n",
        "    if (e + 1) % 500 == 0:\n",
        "        print(f'[{e+1:5d}/{EPOCHS}] CE Loss {loss:.4f}')"
      ],
      "execution_count": null,
      "outputs": []
    },
    {
      "cell_type": "markdown",
      "metadata": {
        "id": "fnJlNJ4tiuSi"
      },
      "source": [
        "### 시각화"
      ]
    },
    {
      "cell_type": "code",
      "metadata": {
        "id": "bqX2mv_2irQi"
      },
      "source": [
        "w, b = model.parameters()"
      ],
      "execution_count": null,
      "outputs": []
    },
    {
      "cell_type": "code",
      "metadata": {
        "id": "s3J1Q053i0gA"
      },
      "source": [
        "print(type(w), type(b))"
      ],
      "execution_count": null,
      "outputs": []
    },
    {
      "cell_type": "code",
      "metadata": {
        "id": "MRSWD8aDkTD0"
      },
      "source": [
        "print(w)"
      ],
      "execution_count": null,
      "outputs": []
    },
    {
      "cell_type": "code",
      "metadata": {
        "id": "wlRmA7gSkXKL"
      },
      "source": [
        "print(b)"
      ],
      "execution_count": null,
      "outputs": []
    },
    {
      "cell_type": "code",
      "metadata": {
        "id": "CTaj6P9wkZ2Z"
      },
      "source": [
        "w = w.detach().cpu()"
      ],
      "execution_count": null,
      "outputs": []
    },
    {
      "cell_type": "code",
      "metadata": {
        "id": "ji1O90AMkcrR"
      },
      "source": [
        "print(w)"
      ],
      "execution_count": null,
      "outputs": []
    },
    {
      "cell_type": "code",
      "metadata": {
        "id": "UFPSew0VkdBh"
      },
      "source": [
        "b = b.detach().cpu()"
      ],
      "execution_count": null,
      "outputs": []
    },
    {
      "cell_type": "code",
      "metadata": {
        "id": "piuxKfnxkiNx"
      },
      "source": [
        "print(b)"
      ],
      "execution_count": null,
      "outputs": []
    },
    {
      "cell_type": "code",
      "metadata": {
        "id": "4OxeK41bkirR"
      },
      "source": [
        "x1_space = np.linspace(-6, 6, 20)\n",
        "x2_space = np.linspace(-6, 6, 20)\n",
        "\n",
        "grid = np.meshgrid(x1_space, x2_space)\n",
        "\n",
        "X = np.hstack([grid[0].reshape(-1, 1), grid[1].reshape(-1, 1)])\n",
        "X = torch.from_numpy(X).float()\n",
        "X = X.to(device)"
      ],
      "execution_count": null,
      "outputs": []
    },
    {
      "cell_type": "code",
      "metadata": {
        "id": "M5eHe_Y3l6zy"
      },
      "source": [
        "model.eval()\n",
        "\n",
        "with torch.no_grad():\n",
        "    output = model(X)\n",
        "    _, predicted = output.max(1)\n",
        "    predicted = predicted.detach().cpu()"
      ],
      "execution_count": null,
      "outputs": []
    },
    {
      "cell_type": "code",
      "metadata": {
        "id": "epjQ9I9nmIOY"
      },
      "source": [
        "plt.scatter(X[:,0].detach().cpu().numpy(), X[:,1].detach().cpu().numpy(), c=predicted.numpy(), cmap='coolwarm')\n",
        "plt.scatter(x1, x2, c=y)\n",
        "plt.show()"
      ],
      "execution_count": null,
      "outputs": []
    },
    {
      "cell_type": "code",
      "metadata": {
        "id": "IBsY75dAmush"
      },
      "source": [
        ""
      ],
      "execution_count": null,
      "outputs": []
    }
  ]
}